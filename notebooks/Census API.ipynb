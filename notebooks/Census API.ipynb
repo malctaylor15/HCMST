{
 "cells": [
  {
   "cell_type": "code",
   "execution_count": 10,
   "metadata": {
    "scrolled": true
   },
   "outputs": [
    {
     "name": "stdout",
     "output_type": "stream",
     "text": [
      "Collecting cenpy\n",
      "  Downloading cenpy-1.0.0.post4.tar.gz (30 kB)\n",
      "Requirement already satisfied: pandas in /Users/malcolmtaylor/Github_Projects/venv/lib/python3.8/site-packages (from cenpy) (1.2.0)\n",
      "Collecting geopandas\n",
      "  Downloading geopandas-0.8.1-py2.py3-none-any.whl (962 kB)\n",
      "\u001b[K     |████████████████████████████████| 962 kB 1.9 MB/s eta 0:00:01\n",
      "\u001b[?25hRequirement already satisfied: requests in /Users/malcolmtaylor/Github_Projects/venv/lib/python3.8/site-packages (from cenpy) (2.24.0)\n",
      "Collecting rtree\n",
      "  Downloading Rtree-0.9.7-cp38-cp38-macosx_10_15_x86_64.whl (426 kB)\n",
      "\u001b[K     |████████████████████████████████| 426 kB 23.2 MB/s eta 0:00:01\n",
      "\u001b[?25hRequirement already satisfied: numpy in /Users/malcolmtaylor/Github_Projects/venv/lib/python3.8/site-packages (from cenpy) (1.18.1)\n",
      "Requirement already satisfied: six in /Users/malcolmtaylor/Github_Projects/venv/lib/python3.8/site-packages (from cenpy) (1.15.0)\n",
      "Requirement already satisfied: fuzzywuzzy in /Users/malcolmtaylor/Github_Projects/venv/lib/python3.8/site-packages (from cenpy) (0.18.0)\n",
      "Collecting libpysal\n",
      "  Downloading libpysal-4.3.0.tar.gz (2.4 MB)\n",
      "\u001b[K     |████████████████████████████████| 2.4 MB 5.5 MB/s eta 0:00:01\n",
      "\u001b[?25hRequirement already satisfied: python-dateutil>=2.7.3 in /Users/malcolmtaylor/Github_Projects/venv/lib/python3.8/site-packages (from pandas->cenpy) (2.8.1)\n",
      "Requirement already satisfied: pytz>=2017.3 in /Users/malcolmtaylor/Github_Projects/venv/lib/python3.8/site-packages (from pandas->cenpy) (2020.1)\n",
      "Collecting shapely\n",
      "  Downloading Shapely-1.7.1-cp38-cp38-macosx_10_9_x86_64.whl (1.0 MB)\n",
      "\u001b[K     |████████████████████████████████| 1.0 MB 11.4 MB/s eta 0:00:01\n",
      "\u001b[?25hCollecting pyproj>=2.2.0\n",
      "  Downloading pyproj-3.0.0.post1-cp38-cp38-macosx_10_9_x86_64.whl (7.4 MB)\n",
      "\u001b[K     |████████████████████████████████| 7.4 MB 1.8 MB/s eta 0:00:01\n",
      "\u001b[?25hCollecting fiona\n",
      "  Downloading Fiona-1.8.18-cp38-cp38-macosx_10_9_x86_64.whl (14.8 MB)\n",
      "\u001b[K     |████████████████████████████████| 14.8 MB 4.1 MB/s eta 0:00:01     |█████████████▍                  | 6.2 MB 3.5 MB/s eta 0:00:03\n",
      "\u001b[?25hRequirement already satisfied: urllib3!=1.25.0,!=1.25.1,<1.26,>=1.21.1 in /Users/malcolmtaylor/Github_Projects/venv/lib/python3.8/site-packages (from requests->cenpy) (1.25.10)\n",
      "Requirement already satisfied: chardet<4,>=3.0.2 in /Users/malcolmtaylor/Github_Projects/venv/lib/python3.8/site-packages (from requests->cenpy) (3.0.4)\n",
      "Requirement already satisfied: idna<3,>=2.5 in /Users/malcolmtaylor/Github_Projects/venv/lib/python3.8/site-packages (from requests->cenpy) (2.10)\n",
      "Requirement already satisfied: certifi>=2017.4.17 in /Users/malcolmtaylor/Github_Projects/venv/lib/python3.8/site-packages (from requests->cenpy) (2020.6.20)\n",
      "Requirement already satisfied: scipy>=0.11 in /Users/malcolmtaylor/Github_Projects/venv/lib/python3.8/site-packages (from libpysal->cenpy) (1.4.1)\n",
      "Requirement already satisfied: beautifulsoup4 in /Users/malcolmtaylor/Github_Projects/venv/lib/python3.8/site-packages (from libpysal->cenpy) (4.9.1)\n",
      "Requirement already satisfied: jinja2 in /Users/malcolmtaylor/Github_Projects/venv/lib/python3.8/site-packages (from libpysal->cenpy) (2.11.2)\n",
      "Collecting munch\n",
      "  Downloading munch-2.5.0-py2.py3-none-any.whl (10 kB)\n",
      "Requirement already satisfied: attrs>=17 in /Users/malcolmtaylor/Github_Projects/venv/lib/python3.8/site-packages (from fiona->geopandas->cenpy) (19.3.0)\n",
      "Collecting click-plugins>=1.0\n",
      "  Downloading click_plugins-1.1.1-py2.py3-none-any.whl (7.5 kB)\n",
      "Requirement already satisfied: click<8,>=4.0 in /Users/malcolmtaylor/Github_Projects/venv/lib/python3.8/site-packages (from fiona->geopandas->cenpy) (7.1.2)\n",
      "Collecting cligj>=0.5\n",
      "  Downloading cligj-0.7.1-py3-none-any.whl (7.1 kB)\n",
      "Requirement already satisfied: soupsieve>1.2 in /Users/malcolmtaylor/Github_Projects/venv/lib/python3.8/site-packages (from beautifulsoup4->libpysal->cenpy) (2.0.1)\n",
      "Requirement already satisfied: MarkupSafe>=0.23 in /Users/malcolmtaylor/Github_Projects/venv/lib/python3.8/site-packages (from jinja2->libpysal->cenpy) (1.1.1)\n",
      "Building wheels for collected packages: cenpy, libpysal\n",
      "  Building wheel for cenpy (setup.py) ... \u001b[?25ldone\n",
      "\u001b[?25h  Created wheel for cenpy: filename=cenpy-1.0.0.post4-py3-none-any.whl size=29911 sha256=b47fa93f27ad780465dc01641fc50141595c13b42aaf0654416964f377e5cc62\n",
      "  Stored in directory: /Users/malcolmtaylor/Library/Caches/pip/wheels/78/95/b8/924cae891f669f1c4507e11a7ed120668b681b8482f7d55b49\n",
      "  Building wheel for libpysal (setup.py) ... \u001b[?25ldone\n",
      "\u001b[?25h  Created wheel for libpysal: filename=libpysal-4.3.0-py2.py3-none-any.whl size=2379082 sha256=c66a455d8c46ea8339b398be32e378c9c1f2238809450ab2e5b084eb98dfbc12\n",
      "  Stored in directory: /Users/malcolmtaylor/Library/Caches/pip/wheels/24/79/68/f3e6b8b56ed3bc3ff6176e220ea951e4ed133c1c799913a2f3\n",
      "Successfully built cenpy libpysal\n",
      "Installing collected packages: shapely, pyproj, munch, click-plugins, cligj, fiona, geopandas, rtree, libpysal, cenpy\n",
      "Successfully installed cenpy-1.0.0.post4 click-plugins-1.1.1 cligj-0.7.1 fiona-1.8.18 geopandas-0.8.1 libpysal-4.3.0 munch-2.5.0 pyproj-3.0.0.post1 rtree-0.9.7 shapely-1.7.1\n",
      "\u001b[33mWARNING: You are using pip version 20.2.4; however, version 20.3.3 is available.\n",
      "You should consider upgrading via the '/Users/malcolmtaylor/Github_Projects/venv/bin/python3 -m pip install --upgrade pip' command.\u001b[0m\n"
     ]
    }
   ],
   "source": [
    "# !pip install census\n",
    "# !pip install us \n",
    "# !pip install censusdata\n",
    "!pip install cenpy"
   ]
  },
  {
   "cell_type": "code",
   "execution_count": 12,
   "metadata": {},
   "outputs": [],
   "source": [
    "api_key = \"3ac8d39dab1e50d04692ab234129e84d6fe0dd58\""
   ]
  },
  {
   "cell_type": "raw",
   "metadata": {},
   "source": [
    "from census import Census\n",
    "from us import states\n",
    "\n",
    "c = Census(api_key)\n",
    "c.acs5.get(('NAME', 'B25034_010E'),\n",
    "          {'for': 'state:{}'.format(states.MD.fips)})"
   ]
  },
  {
   "cell_type": "code",
   "execution_count": null,
   "metadata": {},
   "outputs": [],
   "source": [
    "import pandas as pd\n",
    "import censusdata"
   ]
  },
  {
   "cell_type": "code",
   "execution_count": 33,
   "metadata": {},
   "outputs": [
    {
     "data": {
      "text/plain": [
       "[('B98031_001E',\n",
       "  'B98031.  Overall Person Characteristic Imputation Rate',\n",
       "  'Total'),\n",
       " ('B98031_001M',\n",
       "  'B98031.  Overall Person Characteristic Imputation Rate',\n",
       "  'Margin Of Error For!!Total'),\n",
       " ('B98032_001E',\n",
       "  'B98032.  Overall Housing Unit Characteristic Imputation Rate',\n",
       "  'Total'),\n",
       " ('B98032_001M',\n",
       "  'B98032.  Overall Housing Unit Characteristic Imputation Rate',\n",
       "  'Margin Of Error For!!Total')]"
      ]
     },
     "execution_count": 33,
     "metadata": {},
     "output_type": "execute_result"
    }
   ],
   "source": [
    "sample = censusdata.search('acs5', 2015,'concept', 'charact')\n",
    "sample[:10]"
   ]
  },
  {
   "cell_type": "code",
   "execution_count": 26,
   "metadata": {},
   "outputs": [
    {
     "data": {
      "text/plain": [
       "[]"
      ]
     },
     "execution_count": 26,
     "metadata": {},
     "output_type": "execute_result"
    }
   ],
   "source": []
  },
  {
   "cell_type": "code",
   "execution_count": 34,
   "metadata": {},
   "outputs": [
    {
     "name": "stderr",
     "output_type": "stream",
     "text": [
      "/Users/malcolmtaylor/Github_Projects/venv/lib/python3.8/site-packages/fuzzywuzzy/fuzz.py:11: UserWarning: Using slow pure-python SequenceMatcher. Install python-Levenshtein to remove this warning\n",
      "  warnings.warn('Using slow pure-python SequenceMatcher. Install python-Levenshtein to remove this warning')\n"
     ]
    }
   ],
   "source": [
    "import pandas as pd\n",
    "import cenpy as cen"
   ]
  },
  {
   "cell_type": "code",
   "execution_count": 35,
   "metadata": {},
   "outputs": [],
   "source": [
    "datasets = list(cen.explorer.available(verbose=True).items())\n",
    "# Convert dictionary to dataframe\n",
    "datasets = pd.DataFrame(datasets, columns = ['code', 'dataset name'])"
   ]
  },
  {
   "cell_type": "code",
   "execution_count": 36,
   "metadata": {},
   "outputs": [
    {
     "data": {
      "text/html": [
       "<div>\n",
       "<style scoped>\n",
       "    .dataframe tbody tr th:only-of-type {\n",
       "        vertical-align: middle;\n",
       "    }\n",
       "\n",
       "    .dataframe tbody tr th {\n",
       "        vertical-align: top;\n",
       "    }\n",
       "\n",
       "    .dataframe thead th {\n",
       "        text-align: right;\n",
       "    }\n",
       "</style>\n",
       "<table border=\"1\" class=\"dataframe\">\n",
       "  <thead>\n",
       "    <tr style=\"text-align: right;\">\n",
       "      <th></th>\n",
       "      <th>code</th>\n",
       "      <th>dataset name</th>\n",
       "    </tr>\n",
       "  </thead>\n",
       "  <tbody>\n",
       "    <tr>\n",
       "      <th>0</th>\n",
       "      <td>c_isTimeseries</td>\n",
       "      <td>ABSCB2017          NaN\n",
       "ABSCBO2017         NaN\n",
       "...</td>\n",
       "    </tr>\n",
       "    <tr>\n",
       "      <th>1</th>\n",
       "      <td>publisher</td>\n",
       "      <td>ABSCB2017          U.S. Census Bureau\n",
       "ABSCBO20...</td>\n",
       "    </tr>\n",
       "    <tr>\n",
       "      <th>2</th>\n",
       "      <td>temporal</td>\n",
       "      <td>ABSCB2017          unidentified\n",
       "ABSCBO2017    ...</td>\n",
       "    </tr>\n",
       "    <tr>\n",
       "      <th>3</th>\n",
       "      <td>spatial</td>\n",
       "      <td>ABSCB2017                    NaN\n",
       "ABSCBO2017   ...</td>\n",
       "    </tr>\n",
       "    <tr>\n",
       "      <th>4</th>\n",
       "      <td>programCode</td>\n",
       "      <td>ABSCB2017          006:007\n",
       "ABSCBO2017         ...</td>\n",
       "    </tr>\n",
       "    <tr>\n",
       "      <th>5</th>\n",
       "      <td>modified</td>\n",
       "      <td>ABSCB2017          2020-04-30 00:00:00.0\n",
       "ABSCB...</td>\n",
       "    </tr>\n",
       "    <tr>\n",
       "      <th>6</th>\n",
       "      <td>keyword</td>\n",
       "      <td>ABSCB2017          ()\n",
       "ABSCBO2017         ()\n",
       "AB...</td>\n",
       "    </tr>\n",
       "    <tr>\n",
       "      <th>7</th>\n",
       "      <td>contactPoint</td>\n",
       "      <td>ABSCB2017          {'fn': 'ASE Staff', 'hasEma...</td>\n",
       "    </tr>\n",
       "    <tr>\n",
       "      <th>8</th>\n",
       "      <td>distribution</td>\n",
       "      <td>ABSCB2017          {'@type': 'dcat:Distributio...</td>\n",
       "    </tr>\n",
       "    <tr>\n",
       "      <th>9</th>\n",
       "      <td>description</td>\n",
       "      <td>ABSCB2017          The Annual Business Survey ...</td>\n",
       "    </tr>\n",
       "    <tr>\n",
       "      <th>10</th>\n",
       "      <td>bureauCode</td>\n",
       "      <td>ABSCB2017             NaN\n",
       "ABSCBO2017          ...</td>\n",
       "    </tr>\n",
       "    <tr>\n",
       "      <th>11</th>\n",
       "      <td>accessLevel</td>\n",
       "      <td>ABSCB2017             NaN\n",
       "ABSCBO2017          ...</td>\n",
       "    </tr>\n",
       "    <tr>\n",
       "      <th>12</th>\n",
       "      <td>title</td>\n",
       "      <td>ABSCB2017            Annual Economic Surveys: ...</td>\n",
       "    </tr>\n",
       "    <tr>\n",
       "      <th>13</th>\n",
       "      <td>c_isAvailable</td>\n",
       "      <td>ABSCB2017          True\n",
       "ABSCBO2017         Tru...</td>\n",
       "    </tr>\n",
       "    <tr>\n",
       "      <th>14</th>\n",
       "      <td>c_isCube</td>\n",
       "      <td>ABSCB2017           NaN\n",
       "ABSCBO2017          Na...</td>\n",
       "    </tr>\n",
       "    <tr>\n",
       "      <th>15</th>\n",
       "      <td>c_isAggregate</td>\n",
       "      <td>ABSCB2017          True\n",
       "ABSCBO2017         Tru...</td>\n",
       "    </tr>\n",
       "    <tr>\n",
       "      <th>16</th>\n",
       "      <td>c_valuesLink</td>\n",
       "      <td>ABSCB2017          https://api.census.gov/data...</td>\n",
       "    </tr>\n",
       "    <tr>\n",
       "      <th>17</th>\n",
       "      <td>c_groupsLink</td>\n",
       "      <td>ABSCB2017          https://api.census.gov/data...</td>\n",
       "    </tr>\n",
       "    <tr>\n",
       "      <th>18</th>\n",
       "      <td>c_examplesLink</td>\n",
       "      <td>ABSCB2017          https://api.census.gov/data...</td>\n",
       "    </tr>\n",
       "    <tr>\n",
       "      <th>19</th>\n",
       "      <td>c_tagsLink</td>\n",
       "      <td>ABSCB2017           https://api.census.gov/dat...</td>\n",
       "    </tr>\n",
       "    <tr>\n",
       "      <th>20</th>\n",
       "      <td>c_variablesLink</td>\n",
       "      <td>ABSCB2017          https://api.census.gov/data...</td>\n",
       "    </tr>\n",
       "    <tr>\n",
       "      <th>21</th>\n",
       "      <td>c_geographyLink</td>\n",
       "      <td>ABSCB2017          https://api.census.gov/data...</td>\n",
       "    </tr>\n",
       "    <tr>\n",
       "      <th>22</th>\n",
       "      <td>c_dataset</td>\n",
       "      <td>ABSCB2017                      (abscb,)\n",
       "ABSCBO...</td>\n",
       "    </tr>\n",
       "    <tr>\n",
       "      <th>23</th>\n",
       "      <td>vintage</td>\n",
       "      <td>ABSCB2017          2017.0\n",
       "ABSCBO2017         2...</td>\n",
       "    </tr>\n",
       "  </tbody>\n",
       "</table>\n",
       "</div>"
      ],
      "text/plain": [
       "               code                                       dataset name\n",
       "0    c_isTimeseries  ABSCB2017          NaN\n",
       "ABSCBO2017         NaN\n",
       "...\n",
       "1         publisher  ABSCB2017          U.S. Census Bureau\n",
       "ABSCBO20...\n",
       "2          temporal  ABSCB2017          unidentified\n",
       "ABSCBO2017    ...\n",
       "3           spatial  ABSCB2017                    NaN\n",
       "ABSCBO2017   ...\n",
       "4       programCode  ABSCB2017          006:007\n",
       "ABSCBO2017         ...\n",
       "5          modified  ABSCB2017          2020-04-30 00:00:00.0\n",
       "ABSCB...\n",
       "6           keyword  ABSCB2017          ()\n",
       "ABSCBO2017         ()\n",
       "AB...\n",
       "7      contactPoint  ABSCB2017          {'fn': 'ASE Staff', 'hasEma...\n",
       "8      distribution  ABSCB2017          {'@type': 'dcat:Distributio...\n",
       "9       description  ABSCB2017          The Annual Business Survey ...\n",
       "10       bureauCode  ABSCB2017             NaN\n",
       "ABSCBO2017          ...\n",
       "11      accessLevel  ABSCB2017             NaN\n",
       "ABSCBO2017          ...\n",
       "12            title  ABSCB2017            Annual Economic Surveys: ...\n",
       "13    c_isAvailable  ABSCB2017          True\n",
       "ABSCBO2017         Tru...\n",
       "14         c_isCube  ABSCB2017           NaN\n",
       "ABSCBO2017          Na...\n",
       "15    c_isAggregate  ABSCB2017          True\n",
       "ABSCBO2017         Tru...\n",
       "16     c_valuesLink  ABSCB2017          https://api.census.gov/data...\n",
       "17     c_groupsLink  ABSCB2017          https://api.census.gov/data...\n",
       "18   c_examplesLink  ABSCB2017          https://api.census.gov/data...\n",
       "19       c_tagsLink  ABSCB2017           https://api.census.gov/dat...\n",
       "20  c_variablesLink  ABSCB2017          https://api.census.gov/data...\n",
       "21  c_geographyLink  ABSCB2017          https://api.census.gov/data...\n",
       "22        c_dataset  ABSCB2017                      (abscb,)\n",
       "ABSCBO...\n",
       "23          vintage  ABSCB2017          2017.0\n",
       "ABSCBO2017         2..."
      ]
     },
     "execution_count": 36,
     "metadata": {},
     "output_type": "execute_result"
    }
   ],
   "source": [
    "datasets"
   ]
  },
  {
   "cell_type": "code",
   "execution_count": null,
   "metadata": {},
   "outputs": [],
   "source": []
  }
 ],
 "metadata": {
  "kernelspec": {
   "display_name": "Python 3",
   "language": "python",
   "name": "python3"
  },
  "language_info": {
   "codemirror_mode": {
    "name": "ipython",
    "version": 3
   },
   "file_extension": ".py",
   "mimetype": "text/x-python",
   "name": "python",
   "nbconvert_exporter": "python",
   "pygments_lexer": "ipython3",
   "version": "3.8.5"
  },
  "toc": {
   "base_numbering": 1,
   "nav_menu": {},
   "number_sections": true,
   "sideBar": true,
   "skip_h1_title": false,
   "title_cell": "Table of Contents",
   "title_sidebar": "Contents",
   "toc_cell": false,
   "toc_position": {},
   "toc_section_display": true,
   "toc_window_display": false
  }
 },
 "nbformat": 4,
 "nbformat_minor": 4
}
